{
 "cells": [
  {
   "cell_type": "markdown",
   "metadata": {},
   "source": [
    "# Matplotlib\n",
    "Matplotlib vẽ biểu đồ dữ liệu của bạn trên Figure s (ví dụ: windows, tiện ích Jupyter, v.v.), mỗi trong số đó có thể chứa một hoặc nhiều Axes , một khu vực nơi các điểm có thể được chỉ định theo thuật ngữ tọa độ x-y (hoặc theta-r trong biểu đồ cực, x-y-z trong biểu đồ 3D, v.v.). Cách đơn giản nhất để tạo Hình bằng Trục là sử dụng pyplot.subplots . Sau đó chúng ta có thể sử dụng Axes.plot để vẽ một số dữ liệu trên Trục và show để hiển thị hình:\n",
    "```python\n",
    "fig, ax = plt.subplots()             # Create a figure containing a single Axes.\n",
    "ax.plot([1, 2, 3, 4], [1, 4, 2, 3])  # Plot some data on the Axes.\n",
    "plt.show()                           # Show the figure.\n",
    "```\n",
    "vận dụng matplotlib để vẽ biểu đồ. Hãy nhìn vào những câu lệnh ở ví dụ visualization trên. Nếu tinh tế bạn sẽ thấy chúng ta trải qua các bước:\n",
    "\n",
    "- Khởi tạo figure cho đồ thị: Muốn dựng một đồ thị thì trước tiên ta phải dựng khung cho nó thông qua hàm plt.figure(). Bên trong hàm này chúng ta khai báo kích thước (w, h) của đồ thị thông qua figuresize=(w, h).\n",
    "\n",
    "- Vẽ biểu đồ: Sau khi đã có khung hình rồi, chúng ta sẽ tiến hành vẽ đồ thị. Tuỳ vào tính chất của dữ liệu mà chúng ta sẽ quyết định lựa chọn loại đồ thị phù hợp như đồ thị barchart, line, scatter, pie, area, boxplot. Bên trong hàm vẽ đồ thị chúng ta sẽ khai báo trục x và y và điều chỉnh các định dạng font chữ, màu sắc, loại đường viền đồ thị cho hài hoà và đẹp mắt.\n",
    "\n",
    "- Khai báo tiêu đề: Chúng ta có thể tạo tiêu đề cho các trục x, y và tiêu đề của đồ thị."
   ]
  },
  {
   "cell_type": "code",
   "execution_count": null,
   "metadata": {},
   "outputs": [],
   "source": [
    "# ! pip install seaborn imageio plotly-express"
   ]
  },
  {
   "cell_type": "code",
   "execution_count": 3,
   "metadata": {},
   "outputs": [],
   "source": [
    "import matplotlib.pyplot as plt\n",
    "import pandas as pd\n",
    "import os\n",
    "import numpy as np\n",
    "import seaborn as sns\n",
    "import plotly.express as px\n",
    "# from matplotlib.animation import FuncAnimation\n",
    "import imageio"
   ]
  },
  {
   "cell_type": "markdown",
   "metadata": {},
   "source": [
    "# 1. Format chung của một biểu đồ trên matplotlib\n"
   ]
  },
  {
   "cell_type": "code",
   "execution_count": null,
   "metadata": {},
   "outputs": [],
   "source": [
    "plt.figure(figsize=(10, 6))\n",
    "plt.title(\"Biểu đồ mẫu\")\n",
    "plt.xlabel(\"Trục X\")\n",
    "plt.ylabel(\"Trục Y\")\n",
    "plt.grid(True)"
   ]
  },
  {
   "cell_type": "markdown",
   "metadata": {},
   "source": [
    "# 2. Các biểu đồ cơ bản trên matplotlib"
   ]
  },
  {
   "cell_type": "code",
   "execution_count": null,
   "metadata": {},
   "outputs": [],
   "source": [
    "# Line\n",
    "x = np.linspace(0, 10, 100)\n",
    "y = np.sin(x)\n",
    "plt.plot(x, y, label='sin(x)')\n",
    "plt.legend()\n",
    "plt.show()"
   ]
  },
  {
   "cell_type": "code",
   "execution_count": null,
   "metadata": {},
   "outputs": [],
   "source": [
    "# Barchart\n",
    "categories = ['A', 'B', 'C', 'D']\n",
    "values = [3, 7, 5, 6]\n",
    "plt.bar(categories, values, color='blue')\n",
    "plt.title(\"Biểu đồ cột\")\n",
    "plt.xlabel(\"Danh mục\")\n",
    "plt.ylabel(\"Giá trị\")\n",
    "plt.show()"
   ]
  },
  {
   "cell_type": "code",
   "execution_count": null,
   "metadata": {},
   "outputs": [],
   "source": [
    "# Pie\n",
    "labels = ['A', 'B', 'C', 'D']\n",
    "sizes = [215, 130, 245, 210]\n",
    "plt.pie(sizes, labels=labels, autopct='%1.1f%%', startangle=90)\n",
    "plt.title(\"Biểu đồ tròn\")\n",
    "plt.axis('equal')  # Equal aspect ratio ensures that pie is drawn as a circle.\n",
    "plt.show()"
   ]
  },
  {
   "cell_type": "code",
   "execution_count": null,
   "metadata": {},
   "outputs": [],
   "source": [
    "# Scatter\n",
    "x = np.random.rand(50)\n",
    "y = np.random.rand(50)\n",
    "colors = np.random.rand(50)\n",
    "area = (30 * np.random.rand(50))**2  # Radius proportional to area\n",
    "plt.scatter(x, y, s=area, c=colors, alpha=0.5)\n",
    "plt.title(\"Biểu đồ phân tán\")\n",
    "plt.xlabel(\"Trục X\")\n",
    "plt.ylabel(\"Trục Y\")\n",
    "plt.show()"
   ]
  },
  {
   "cell_type": "markdown",
   "metadata": {},
   "source": [
    "# 3. Các biểu đồ nâng cao trên matplotlib"
   ]
  },
  {
   "cell_type": "code",
   "execution_count": null,
   "metadata": {},
   "outputs": [],
   "source": [
    "# Boxplot\n",
    "data = [np.random.normal(0, std, 100) for std in range(1, 4)]\n",
    "plt.boxplot(data)\n",
    "plt.title(\"Biểu đồ hộp\")\n",
    "plt.xlabel(\"Nhóm\")\n",
    "plt.ylabel(\"Giá trị\")\n",
    "plt.show()"
   ]
  },
  {
   "cell_type": "code",
   "execution_count": null,
   "metadata": {},
   "outputs": [],
   "source": [
    "# Swarm\n",
    "sns.set(style=\"whitegrid\")\n",
    "tips = sns.load_dataset(\"tips\")\n",
    "sns.swarmplot(x=\"day\", y=\"total_bill\", data=tips)\n",
    "plt.title(\"Biểu đồ phân tán nón\")\n",
    "plt.show()"
   ]
  },
  {
   "cell_type": "code",
   "execution_count": null,
   "metadata": {},
   "outputs": [],
   "source": [
    "# Histogram\n",
    "plt.hist(x, bins=20, color='green', alpha=0.7)\n",
    "plt.title(\"Biểu đồ phân phối\")\n",
    "plt.xlabel(\"Giá trị\")\n",
    "plt.ylabel(\"Tần suất\")\n",
    "plt.show()"
   ]
  },
  {
   "cell_type": "code",
   "execution_count": null,
   "metadata": {},
   "outputs": [],
   "source": [
    "# Density\n",
    "sns.kdeplot(x, color='red')\n",
    "plt.title(\"Biểu đồ mật độ\")\n",
    "plt.xlabel(\"Giá trị\")\n",
    "plt.ylabel(\"Mật độ\")\n",
    "plt.show()"
   ]
  },
  {
   "cell_type": "code",
   "execution_count": null,
   "metadata": {},
   "outputs": [],
   "source": [
    "# Heatmap matrix\n",
    "data = np.random.rand(10, 10)\n",
    "sns.heatmap(data, annot=True, cmap='YlGnBu')\n",
    "plt.title(\"Biểu đồ nhiệt\")\n",
    "plt.show()"
   ]
  },
  {
   "cell_type": "markdown",
   "metadata": {},
   "source": [
    "# 4. Vẽ nhiều biểu đồ con trên một biểu đồ"
   ]
  },
  {
   "cell_type": "code",
   "execution_count": null,
   "metadata": {},
   "outputs": [],
   "source": [
    "fig, axs = plt.subplots(2, 2, figsize=(10, 8))\n",
    "axs[0, 0].plot(x, y, label='sin(x)')\n",
    "axs[0, 0].set_title('Line')\n",
    "axs[0, 1].bar(categories, values, color='blue')\n",
    "axs[0, 1].set_title('Barchart')\n",
    "axs[1, 0].scatter(x, y, s=area, c=colors, alpha=0.5)\n",
    "axs[1, 0].set_title('Scatter')\n",
    "axs[1, 1].pie(sizes, labels=labels, autopct='%1.1f%%', startangle=90)\n",
    "axs[1, 1].set_title('Pie')\n",
    "axs[1, 1].axis('equal')\n",
    "plt.tight_layout()\n",
    "plt.show()"
   ]
  },
  {
   "cell_type": "markdown",
   "metadata": {},
   "source": [
    "# 5. Biểu đồ động từ gif file"
   ]
  },
  {
   "cell_type": "code",
   "execution_count": null,
   "metadata": {},
   "outputs": [],
   "source": [
    "# Tạo dữ liệu cho biểu đồ động\n",
    "x = np.linspace(0, 2 * np.pi, 100)\n",
    "y = np.sin(x)\n",
    "\n",
    "# Tạo các khung hình cho biểu đồ động\n",
    "frames = []\n",
    "for i in range(100):\n",
    "    plt.figure(figsize=(8, 6))\n",
    "    plt.plot(x[:i], y[:i], label='sin(x)')\n",
    "    plt.title(\"Biểu đồ động\")\n",
    "    plt.xlabel(\"Trục X\")\n",
    "    plt.ylabel(\"Trục Y\")\n",
    "    plt.legend()\n",
    "    plt.xlim(0, 2 * np.pi)\n",
    "    plt.ylim(-1.5, 1.5)\n",
    "    plt.grid(True)\n",
    "    filename = f'frame/frame_{i}.png'\n",
    "    plt.savefig(filename)\n",
    "    frames.append(imageio.imread(filename))\n",
    "    plt.close()\n",
    "\n",
    "# Lưu các khung hình thành file GIF\n",
    "imageio.mimsave('animation.gif', frames, fps=10)"
   ]
  },
  {
   "cell_type": "markdown",
   "metadata": {},
   "source": [
    "## Sử dụng plotly để biểu diễn dữ liệu giá phòng trên bản đồ (có thể bấm vào bản đồ để xem giá nhà tại từng điểm)"
   ]
  },
  {
   "cell_type": "code",
   "execution_count": null,
   "metadata": {},
   "outputs": [],
   "source": [
    "global relative_path\n",
    "relative_path = r'data/AB_NYC_2019.csv'\n",
    "if os.name == 'nt':\n",
    "    relative_path = os.path.join(os.path.dirname(os.getcwd()), relative_path)\n",
    "elif os.name == 'posix':\n",
    "    relative_path = os.path.join(os.getcwd(), relative_path)\n",
    "\n",
    "df = pd.read_csv(relative_path)"
   ]
  },
  {
   "cell_type": "code",
   "execution_count": null,
   "metadata": {},
   "outputs": [],
   "source": [
    "fig = px.scatter_mapbox(\n",
    "    df,\n",
    "    lat='latitude',\n",
    "    lon='longitude',\n",
    "    hover_name='name',\n",
    "    hover_data=['room_type', 'price'],\n",
    "    color='price',\n",
    "    size='price',\n",
    "    color_continuous_scale=px.colors.cyclical.IceFire,\n",
    "    size_max=15,\n",
    "    zoom=10,\n",
    "    mapbox_style='carto-positron',\n",
    "    title='Map of all listings'\n",
    ")\n",
    "fig.update_layout(margin=dict(l=0, r=0, t=0, b=0))\n",
    "fig.update_layout(mapbox_style='carto-positron')\n",
    "fig.show()\n",
    "fig.write_html('map.html')"
   ]
  }
 ],
 "metadata": {
  "kernelspec": {
   "display_name": "cloudspace",
   "language": "python",
   "name": "python3"
  },
  "language_info": {
   "codemirror_mode": {
    "name": "ipython",
    "version": 3
   },
   "file_extension": ".py",
   "mimetype": "text/x-python",
   "name": "python",
   "nbconvert_exporter": "python",
   "pygments_lexer": "ipython3",
   "version": "3.10.10"
  }
 },
 "nbformat": 4,
 "nbformat_minor": 2
}
