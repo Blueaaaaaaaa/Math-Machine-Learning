{
 "cells": [
  {
   "cell_type": "markdown",
   "metadata": {},
   "source": [
    "# Numpy\n",
    "là một thư viện Python cung cấp một đối tượng mảng đa chiều, các đối tượng dẫn xuất khác nhau (như mảng và ma trận được che) và một loạt các quy trình để thực hiện các thao tác nhanh trên mảng, bao gồm toán học, logic, thao tác hình dạng, sắp xếp, chọn, I/O , các phép biến đổi Fourier rời rạc, đại số tuyến tính cơ bản, các phép toán thống kê cơ bản, mô phỏng ngẫu nhiên và nhiều hơn nữa.\n",
    "\n",
    "Cốt lõi của gói NumPy là đối tượng ```ndarray```.\n",
    "(viết tắt của \"N-dimensional array\" - mảng nhiều chiều) là một cấu trúc dữ liệu cốt lõi trong thư viện NumPy của Python. Nó đại diện cho một mảng đa chiều, đồng nhất (các phần tử có cùng kiểu dữ liệu), và có kích thước cố định.\n",
    "\n",
    "Đặc điểm chính của ndarray:\n",
    "Đa chiều: ndarray có thể có một hoặc nhiều chiều. Ví dụ:\n",
    "\n",
    "1D: Mảng một chiều (vector).\n",
    "\n",
    "2D: Mảng hai chiều (ma trận).\n",
    "\n",
    "3D hoặc nhiều hơn: Mảng nhiều chiều.\n",
    "\n",
    "Đồng nhất: Tất cả các phần tử trong ndarray phải có cùng kiểu dữ liệu (ví dụ: số nguyên, số thực, boolean, v.v.).\n",
    "\n",
    "Hiệu suất cao: ndarray được tối ưu hóa để thực hiện các phép toán số học nhanh chóng và hiệu quả.\n",
    "\n",
    "Hỗ trợ nhiều phép toán: NumPy cung cấp nhiều hàm để thao tác với ndarray, như phép toán số học, đại số tuyến tính, thống kê, v.v.\n",
    "\n",
    "### Installation\n",
    "Conda\n",
    "```bash\n",
    "# Best practice, use an environment rather than install in the base env\n",
    "conda create -n my-env\n",
    "conda activate my-env\n",
    "# If you want to install from conda-forge\n",
    "conda config --env --add channels conda-forge\n",
    "# The actual install command\n",
    "conda install numpy\n",
    "```\n",
    "Pip\n",
    "```bash\n",
    "pip install numpy\n",
    "```"
   ]
  },
  {
   "cell_type": "code",
   "execution_count": 1,
   "metadata": {},
   "outputs": [],
   "source": [
    "import numpy as np\n",
    "import pandas as pd"
   ]
  },
  {
   "cell_type": "markdown",
   "metadata": {},
   "source": [
    "# 1. Khởi tạo một mảng trên numpy\n",
    "## 1.1. Khởi tạo ngay từ đầu\n",
    "```python\n",
    "np.array()\n",
    "```\n",
    "- có thể định dạng dữ liệu cụ thể như float, interger, boolean, string.\n",
    "- phải đồng nhất về định dạng dữ liệu."
   ]
  },
  {
   "cell_type": "code",
   "execution_count": 3,
   "metadata": {},
   "outputs": [
    {
     "name": "stdout",
     "output_type": "stream",
     "text": [
      "Mảng khởi tạo từ đầu: [1. 2. 3. 4. 5.] \n",
      "dtype: float32\n"
     ]
    }
   ],
   "source": [
    "arr = np.array([1, 2, 3, 4, 5], dtype = np.float32)\n",
    "print(\"Mảng khởi tạo từ đầu:\", arr, \"\\ndtype:\", arr.dtype)"
   ]
  },
  {
   "cell_type": "code",
   "execution_count": 4,
   "metadata": {},
   "outputs": [
    {
     "name": "stdout",
     "output_type": "stream",
     "text": [
      "[2. 4. 1.]\n",
      "[[-0.71120789  1.17169118  0.22297736]\n",
      " [ 1.46205003 -0.00342217  1.5903156 ]]\n",
      "[[ 1.29445407  0.83169785 -2.25045437]\n",
      " [ 0.89939018  2.53627699 -3.9925936 ]]\n",
      "[[ 0.5450907  -0.50358821  0.47659403]\n",
      " [-0.78125398 -0.38073042  0.22276298]]\n",
      "[[ 1 -1 -1]\n",
      " [ 0  1  2]]\n"
     ]
    }
   ],
   "source": [
    "choices = np.random.choice(arr, size=3, replace=False)\n",
    "print(choices)\n",
    "randn_values = np.random.randn(2, 3)\n",
    "print(randn_values)\n",
    "\n",
    "normal_values = np.random.normal(loc=1, scale=2, size=(2, 3))\n",
    "print(normal_values)\n",
    "\n",
    "uniform_values = np.random.uniform(low=-1, high=1, size=(2, 3))\n",
    "print(uniform_values)\n",
    "\n",
    "randint_values = np.random.randint(low=-5, high=5, size=(2, 3))\n",
    "print(randint_values)"
   ]
  },
  {
   "cell_type": "markdown",
   "metadata": {},
   "source": [
    "# 2. Đọc và lưu numpy array từ file"
   ]
  },
  {
   "cell_type": "code",
   "execution_count": 5,
   "metadata": {},
   "outputs": [],
   "source": [
    "arr = np.random.randint(low=-5, high=5, size=(4, 5))"
   ]
  },
  {
   "cell_type": "code",
   "execution_count": 6,
   "metadata": {},
   "outputs": [
    {
     "name": "stdout",
     "output_type": "stream",
     "text": [
      "arr: [[-3  1 -2 -5 -3]\n",
      " [ 2  3  4 -2 -3]\n",
      " [ 2  2  0 -4  2]\n",
      " [-2  2  3  3 -2]]\n",
      "Đã lưu arr vào arr_saved.npy và arr_saved.txt\n"
     ]
    }
   ],
   "source": [
    "#Save numpy\n",
    "print(\"arr:\", arr)\n",
    "np.save(\"arr_saved.npy\", arr)\n",
    "np.savetxt(\"arr_saved.txt\", arr)\n",
    "print(\"Đã lưu arr vào arr_saved.npy và arr_saved.txt\")"
   ]
  },
  {
   "cell_type": "code",
   "execution_count": 7,
   "metadata": {},
   "outputs": [
    {
     "name": "stdout",
     "output_type": "stream",
     "text": [
      "arr_loaded_npy: [[-3  1 -2 -5 -3]\n",
      " [ 2  3  4 -2 -3]\n",
      " [ 2  2  0 -4  2]\n",
      " [-2  2  3  3 -2]]\n",
      "arr_loaded_txt: [[-3.  1. -2. -5. -3.]\n",
      " [ 2.  3.  4. -2. -3.]\n",
      " [ 2.  2.  0. -4.  2.]\n",
      " [-2.  2.  3.  3. -2.]]\n"
     ]
    }
   ],
   "source": [
    "# Load numpy\n",
    "arr_loaded_npy = np.load(\"arr_saved.npy\")\n",
    "print(\"arr_loaded_npy:\", arr_loaded_npy)\n",
    "arr_loaded_txt = np.loadtxt(\"arr_saved.txt\")\n",
    "print(\"arr_loaded_txt:\", arr_loaded_txt)"
   ]
  },
  {
   "cell_type": "code",
   "execution_count": 8,
   "metadata": {},
   "outputs": [
    {
     "name": "stdout",
     "output_type": "stream",
     "text": [
      "arr_from_df: [[-3.  1. -2. -5. -3.]\n",
      " [ 2.  3.  4. -2. -3.]\n",
      " [ 2.  2.  0. -4.  2.]\n",
      " [-2.  2.  3.  3. -2.]]\n"
     ]
    }
   ],
   "source": [
    "# Convert array from dataframe\n",
    "df_from_arr = pd.read_csv(\"arr_saved.txt\", header=None, sep=\" \")\n",
    "arr_from_df = df_from_arr.values\n",
    "print(\"arr_from_df:\", arr_from_df)"
   ]
  },
  {
   "cell_type": "code",
   "execution_count": 9,
   "metadata": {},
   "outputs": [
    {
     "name": "stdout",
     "output_type": "stream",
     "text": [
      "Phần tử thứ 2 của arr_loaded_npy: [ 2  3  4 -2 -3]\n",
      "Dải phần tử từ 1 đến 3 của arr_loaded_npy: [[ 2  3  4 -2 -3]\n",
      " [ 2  2  0 -4  2]\n",
      " [-2  2  3  3 -2]]\n"
     ]
    }
   ],
   "source": [
    "# Ví dụ truy cập mảng\n",
    "print(\"Phần tử thứ 2 của arr_loaded_npy:\", arr_loaded_npy[1])\n",
    "print(\"Dải phần tử từ 1 đến 3 của arr_loaded_npy:\", arr_loaded_npy[1:4])"
   ]
  },
  {
   "cell_type": "markdown",
   "metadata": {},
   "source": [
    "# 3. Thay đổi shape của mảng\n",
    "## 3.1. Reshape\n",
    "```python\n",
    "np.reshape()\n",
    "```\n",
    "Reshape mảng\\nChúng ta có thể thay đổi shape cho mảng dựa vào câu lệnh np.reshape(). Hàm này vừa là một thuộc tính sẵn có trong mỗi mảng (tức là với ma trận A ta có thể gọi A.reshape()) vừa là hàm của numpy.\\n"
   ]
  },
  {
   "cell_type": "code",
   "execution_count": 11,
   "metadata": {},
   "outputs": [
    {
     "name": "stdout",
     "output_type": "stream",
     "text": [
      "B: \n",
      " [ 0  1  2  3  4  5  6  7  8  9 10 11 12 13 14 15]\n",
      "B.shape:  (16,)\n",
      "[[ 0  1  2  3]\n",
      " [ 4  5  6  7]\n",
      " [ 8  9 10 11]\n",
      " [12 13 14 15]]\n",
      "[[ 0  1  2  3]\n",
      " [ 4  5  6  7]\n",
      " [ 8  9 10 11]\n",
      " [12 13 14 15]]\n",
      "[[ 0  1  2  3  4  5  6  7]\n",
      " [ 8  9 10 11 12 13 14 15]]\n",
      "B sau khi reshape:\n",
      "[[ 0  1  2  3  4  5  6  7]\n",
      " [ 8  9 10 11 12 13 14 15]]\n"
     ]
    }
   ],
   "source": [
    "# Ví dụ về reshape mảng\n",
    "B = np.array(np.arange(16))\n",
    "print(\"B: \\n\", B)\n",
    "print(\"B.shape: \", B.shape)\n",
    "\n",
    "\n",
    "print(B.reshape(4, 4))\n",
    "\n",
    "\n",
    "print(np.reshape(B, (4, 4)))\n",
    "\n",
    "\n",
    "print(B.reshape(2, -1))\n",
    "\n",
    "B = np.reshape(B, (2, -1))\n",
    "print(\"B sau khi reshape:\")\n",
    "print(B)"
   ]
  },
  {
   "cell_type": "markdown",
   "metadata": {},
   "source": [
    "## 3.2. Chuyển vị các chiều\n",
    "```python\n",
    "np.transpose()\n",
    "```\n",
    "Chuyển vị các chiều\\nChuyển vị các chiều của mảng là một trong những phép biến đổi cơ bản nhất mà chúng ta có thể thực hiện trên mảng. Để chuyển vị mảng, chúng ta có thể sử dụng hàm np.transpose().\\n"
   ]
  },
  {
   "cell_type": "code",
   "execution_count": 12,
   "metadata": {},
   "outputs": [
    {
     "name": "stdout",
     "output_type": "stream",
     "text": [
      "img.shape: (1013, 1011, 4)\n"
     ]
    }
   ],
   "source": [
    "# Image numpy example\n",
    "import matplotlib.pyplot as plt\n",
    "import matplotlib.image as mpimg\n",
    "\n",
    "img = mpimg.imread('logo_gpt.png')\n",
    "\n",
    "print(\"img.shape:\", img.shape)"
   ]
  },
  {
   "cell_type": "code",
   "execution_count": 13,
   "metadata": {},
   "outputs": [
    {
     "name": "stdout",
     "output_type": "stream",
     "text": [
      "img.shape sau khi transpose: (4, 1013, 1011)\n"
     ]
    }
   ],
   "source": [
    "#transpose\n",
    "img = img.transpose(2, 0, 1)\n",
    "print(\"img.shape sau khi transpose:\", img.shape)"
   ]
  },
  {
   "cell_type": "markdown",
   "metadata": {},
   "source": [
    "## 3.3. Concatenate và Stack hai mảng"
   ]
  },
  {
   "cell_type": "code",
   "execution_count": 14,
   "metadata": {},
   "outputs": [
    {
     "name": "stdout",
     "output_type": "stream",
     "text": [
      "Mảng đã concatenate: [1 2 3 4 5 6]\n",
      "Mảng đã stack: [[1 2 3]\n",
      " [4 5 6]]\n"
     ]
    }
   ],
   "source": [
    "arr1 = np.array([1, 2, 3])\n",
    "arr2 = np.array([4, 5, 6])\n",
    "concatenated_arr = np.concatenate((arr1, arr2))\n",
    "stacked_arr = np.stack((arr1, arr2))\n",
    "print(\"Mảng đã concatenate:\", concatenated_arr)\n",
    "print(\"Mảng đã stack:\", stacked_arr)"
   ]
  },
  {
   "cell_type": "markdown",
   "metadata": {},
   "source": [
    "## 3.4. Mở rộng mảng"
   ]
  },
  {
   "cell_type": "code",
   "execution_count": 15,
   "metadata": {},
   "outputs": [
    {
     "data": {
      "text/plain": [
       "array([[-3,  1, -2, -5, -3],\n",
       "       [ 2,  3,  4, -2, -3],\n",
       "       [ 2,  2,  0, -4,  2],\n",
       "       [-2,  2,  3,  3, -2]])"
      ]
     },
     "execution_count": 15,
     "metadata": {},
     "output_type": "execute_result"
    }
   ],
   "source": [
    "arr = np.load(\"arr_saved.npy\")\n",
    "arr"
   ]
  },
  {
   "cell_type": "code",
   "execution_count": 16,
   "metadata": {},
   "outputs": [
    {
     "name": "stdout",
     "output_type": "stream",
     "text": [
      "Mảng đã mở rộng: [[[-3  1 -2 -5 -3]\n",
      "  [ 2  3  4 -2 -3]\n",
      "  [ 2  2  0 -4  2]\n",
      "  [-2  2  3  3 -2]]]\n",
      "Số shape của mảng ban đầu: (4, 5)\n",
      "Số shape của mảng đã mở rộng: (1, 4, 5)\n"
     ]
    }
   ],
   "source": [
    "expanded_arr = np.expand_dims(arr, axis=0)\n",
    "print(\"Mảng đã mở rộng:\", expanded_arr)\n",
    "print(\"Số shape của mảng ban đầu:\", arr.shape)\n",
    "print(\"Số shape của mảng đã mở rộng:\", expanded_arr.shape)"
   ]
  },
  {
   "cell_type": "markdown",
   "metadata": {},
   "source": [
    "# 4. Các hàm trên numpy"
   ]
  },
  {
   "cell_type": "code",
   "execution_count": 17,
   "metadata": {},
   "outputs": [
    {
     "name": "stdout",
     "output_type": "stream",
     "text": [
      "Giá trị nhỏ nhất: -5\n",
      "Giá trị lớn nhất: 4\n",
      "Trung bình: -0.1\n",
      "Tổng: -2\n",
      "Phần tử nhỏ nhất giữa hai mảng: [ 5 20 15]\n",
      "Phần tử lớn nhất giữa hai mảng: [10 25 30]\n",
      "Vị trí giá trị lớn nhất: 7\n",
      "Vị trí giá trị nhỏ nhất: 3\n"
     ]
    }
   ],
   "source": [
    "# 3.4.1. min, max, mean, sum\n",
    "print(\"Giá trị nhỏ nhất:\", np.min(arr))\n",
    "print(\"Giá trị lớn nhất:\", np.max(arr))\n",
    "print(\"Trung bình:\", np.mean(arr))\n",
    "print(\"Tổng:\", np.sum(arr))\n",
    "\n",
    "# 3.4.2. minimum, maximum\n",
    "arr3 = np.array([10, 20, 30])\n",
    "arr4 = np.array([5, 25, 15])\n",
    "print(\"Phần tử nhỏ nhất giữa hai mảng:\", np.minimum(arr3, arr4))\n",
    "print(\"Phần tử lớn nhất giữa hai mảng:\", np.maximum(arr3, arr4))\n",
    "\n",
    "# 3.4.3. argmax, argmin\n",
    "print(\"Vị trí giá trị lớn nhất:\", np.argmax(arr))\n",
    "print(\"Vị trí giá trị nhỏ nhất:\", np.argmin(arr))"
   ]
  },
  {
   "cell_type": "code",
   "execution_count": 18,
   "metadata": {},
   "outputs": [
    {
     "name": "stdout",
     "output_type": "stream",
     "text": [
      "Vị trí các phần tử khi sắp xếp: [[3 0 4 2 1]\n",
      " [4 3 0 1 2]\n",
      " [3 2 1 0 4]\n",
      " [0 4 1 2 3]]\n",
      "Mảng sau khi sử dụng np.exp(): [[4.97870684e-02 2.71828183e+00 1.35335283e-01 6.73794700e-03\n",
      "  4.97870684e-02]\n",
      " [7.38905610e+00 2.00855369e+01 5.45981500e+01 1.35335283e-01\n",
      "  4.97870684e-02]\n",
      " [7.38905610e+00 7.38905610e+00 1.00000000e+00 1.83156389e-02\n",
      "  7.38905610e+00]\n",
      " [1.35335283e-01 7.38905610e+00 2.00855369e+01 2.00855369e+01\n",
      "  1.35335283e-01]]\n",
      "Mảng sau khi sử dụng softmax: [[3.18669708e-04 1.73987765e-02 8.66234077e-04 4.31272552e-05\n",
      "  3.18669708e-04]\n",
      " [4.72947781e-02 1.28560536e-01 3.49463769e-01 8.66234077e-04\n",
      "  3.18669708e-04]\n",
      " [4.72947781e-02 4.72947781e-02 6.40065219e-03 1.17232034e-04\n",
      "  4.72947781e-02]\n",
      " [8.66234077e-04 4.72947781e-02 1.28560536e-01 1.28560536e-01\n",
      "  8.66234077e-04]]\n",
      "Mảng giữ nguyên shape sau khi cộng với scalar: [[-2  2 -1 -4 -2]\n",
      " [ 3  4  5 -1 -2]\n",
      " [ 3  3  1 -3  3]\n",
      " [-1  3  4  4 -1]]\n",
      "Mảng đã trộn lẫn: [[ 2  2  0 -4  2]\n",
      " [-2  2  3  3 -2]\n",
      " [ 2  3  4 -2 -3]\n",
      " [-3  1 -2 -5 -3]]\n"
     ]
    }
   ],
   "source": [
    "# argsort\n",
    "print(\"Vị trí các phần tử khi sắp xếp:\", np.argsort(arr))\n",
    "\n",
    "# np.exp() và hàm softmax\n",
    "exp_arr = np.exp(arr)\n",
    "softmax_arr = exp_arr / np.sum(exp_arr)\n",
    "print(\"Mảng sau khi sử dụng np.exp():\", exp_arr)\n",
    "print(\"Mảng sau khi sử dụng softmax:\", softmax_arr)\n",
    "\n",
    "# Giữ nguyên shape\n",
    "print(\"Mảng giữ nguyên shape sau khi cộng với scalar:\", arr + 1)\n",
    "\n",
    "# Gieo hạt và trộn lẫn dữ liệu trên numpy\n",
    "np.random.seed(0)\n",
    "shuffled_arr = np.random.permutation(arr)\n",
    "print(\"Mảng đã trộn lẫn:\", shuffled_arr)"
   ]
  },
  {
   "cell_type": "code",
   "execution_count": null,
   "metadata": {},
   "outputs": [],
   "source": []
  },
  {
   "cell_type": "markdown",
   "metadata": {},
   "source": [
    "# 3.5. Các ma trận đặc biệt"
   ]
  },
  {
   "cell_type": "code",
   "execution_count": 20,
   "metadata": {},
   "outputs": [
    {
     "name": "stdout",
     "output_type": "stream",
     "text": [
      "Ma trận đơn vị 3x3:\n",
      " [[1. 0. 0.]\n",
      " [0. 1. 0.]\n",
      " [0. 0. 1.]]\n",
      "Ma trận 1 3x3:\n",
      " [[1. 1. 1.]\n",
      " [1. 1. 1.]\n",
      " [1. 1. 1.]]\n",
      "Ma trận 0 3x3:\n",
      " [[0. 0. 0.]\n",
      " [0. 0. 0.]\n",
      " [0. 0. 0.]]\n",
      "Ma trận đường chéo chính:\n",
      " [[1 0 0]\n",
      " [0 2 0]\n",
      " [0 0 3]]\n"
     ]
    }
   ],
   "source": [
    "# Ma trận đơn vị\n",
    "identity_matrix = np.eye(3)\n",
    "print(\"Ma trận đơn vị 3x3:\\n\", identity_matrix)\n",
    "\n",
    "# Ma trận 1\n",
    "ones_matrix = np.ones((3, 3))\n",
    "print(\"Ma trận 1 3x3:\\n\", ones_matrix)\n",
    "\n",
    "# Ma trận 0\n",
    "zeros_matrix = np.zeros((3, 3))\n",
    "print(\"Ma trận 0 3x3:\\n\", zeros_matrix)\n",
    "\n",
    "# Ma trận đường chéo chính\n",
    "diagonal_matrix = np.diag([1, 2, 3])\n",
    "print(\"Ma trận đường chéo chính:\\n\", diagonal_matrix)"
   ]
  },
  {
   "cell_type": "markdown",
   "metadata": {},
   "source": [
    "# 3.6. Các phép toán trên ma trận"
   ]
  },
  {
   "cell_type": "code",
   "execution_count": 21,
   "metadata": {},
   "outputs": [
    {
     "name": "stdout",
     "output_type": "stream",
     "text": [
      "Ma trận đã chuyển vị: [[1 3]\n",
      " [2 4]]\n",
      "Ma trận nghịch đảo: [[-2.   1. ]\n",
      " [ 1.5 -0.5]]\n",
      "Hạng của ma trận: 2\n",
      "Định thức của ma trận: -2.0000000000000004\n",
      "Trace của ma trận: 5\n",
      "Chuẩn Frobenious của ma trận: 5.477225575051661\n"
     ]
    }
   ],
   "source": [
    "# Phép chuyển vị\n",
    "matrix = np.array([[1, 2], [3, 4]])\n",
    "transposed_matrix = matrix.T\n",
    "print(\"Ma trận đã chuyển vị:\", transposed_matrix)\n",
    "\n",
    "# Ma trận nghịch đảo\n",
    "inverse_matrix = np.linalg.inv(matrix)\n",
    "print(\"Ma trận nghịch đảo:\", inverse_matrix)\n",
    "\n",
    "# Hạng ( rank ) của ma trận.\n",
    "rank_matrix = np.linalg.matrix_rank(matrix)\n",
    "print(\"Hạng của ma trận:\", rank_matrix)\n",
    "\n",
    "# Định thức ( determinant ) của ma trận\n",
    "determinant_matrix = np.linalg.det(matrix)\n",
    "print(\"Định thức của ma trận:\", determinant_matrix)\n",
    "\n",
    "# Trace của ma trận\n",
    "trace_matrix = np.trace(matrix)\n",
    "print(\"Trace của ma trận:\", trace_matrix)\n",
    "\n",
    "# Chuẩn Frobenious\n",
    "frobenius_norm = np.linalg.norm(matrix, 'fro')\n",
    "print(\"Chuẩn Frobenious của ma trận:\", frobenius_norm)"
   ]
  },
  {
   "cell_type": "code",
   "execution_count": 22,
   "metadata": {},
   "outputs": [
    {
     "name": "stdout",
     "output_type": "stream",
     "text": [
      "Ma trận sau khi cộng: [[ 6  8]\n",
      " [10 12]]\n",
      "Ma trận sau khi trừ: [[-4 -4]\n",
      " [-4 -4]]\n",
      "Ma trận sau khi nhân: [[19 22]\n",
      " [43 50]]\n",
      "Tích Hadamard giữa hai ma trận: [[ 5 12]\n",
      " [21 32]]\n",
      "Ma trận sau khi nhân với véc tơ: [ 5 11]\n",
      "Ma trận sau khi nhân với scaler: [[2 4]\n",
      " [6 8]]\n"
     ]
    }
   ],
   "source": [
    "# Các phép cộng, trừ\n",
    "matrix1 = np.array([[1, 2], [3, 4]])\n",
    "matrix2 = np.array([[5, 6], [7, 8]])\n",
    "added_matrix = matrix1 + matrix2\n",
    "subtracted_matrix = matrix1 - matrix2\n",
    "print(\"Ma trận sau khi cộng:\", added_matrix)\n",
    "print(\"Ma trận sau khi trừ:\", subtracted_matrix)\n",
    "\n",
    "# Phép nhân ma trận thông thường\n",
    "multiplied_matrix = np.dot(matrix1, matrix2)\n",
    "print(\"Ma trận sau khi nhân:\", multiplied_matrix)\n",
    "\n",
    "# Tích Hadamard (element-wise product) giữa hai ma trận\n",
    "hadamard_product = np.multiply(matrix1, matrix2)\n",
    "print(\"Tích Hadamard giữa hai ma trận:\", hadamard_product)\n",
    "\n",
    "# Nhân ma trận với một véc tơ\n",
    "vector = np.array([1, 2])\n",
    "multiplied_vector = np.dot(matrix1, vector)\n",
    "print(\"Ma trận sau khi nhân với véc tơ:\", multiplied_vector)\n",
    "\n",
    "# Nhân ma trận với một scaler\n",
    "scaled_matrix = matrix1 * 2\n",
    "print(\"Ma trận sau khi nhân với scaler:\", scaled_matrix)"
   ]
  },
  {
   "cell_type": "markdown",
   "metadata": {},
   "source": [
    "# 3.8. Các phép toán trên véc tơ"
   ]
  },
  {
   "cell_type": "code",
   "execution_count": 23,
   "metadata": {},
   "outputs": [
    {
     "name": "stdout",
     "output_type": "stream",
     "text": [
      "Tích vô hướng giữa hai véc tơ: 32\n"
     ]
    }
   ],
   "source": [
    "vector1 = np.array([1, 2, 3])\n",
    "vector2 = np.array([4, 5, 6])\n",
    "dot_product = np.dot(vector1, vector2)\n",
    "print(\"Tích vô hướng giữa hai véc tơ:\", dot_product)"
   ]
  }
 ],
 "metadata": {
  "kernelspec": {
   "display_name": "cloudspace",
   "language": "python",
   "name": "python3"
  },
  "language_info": {
   "codemirror_mode": {
    "name": "ipython",
    "version": 3
   },
   "file_extension": ".py",
   "mimetype": "text/x-python",
   "name": "python",
   "nbconvert_exporter": "python",
   "pygments_lexer": "ipython3",
   "version": "3.10.10"
  }
 },
 "nbformat": 4,
 "nbformat_minor": 2
}
